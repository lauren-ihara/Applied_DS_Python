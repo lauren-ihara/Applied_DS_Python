{
 "cells": [
  {
   "cell_type": "code",
   "id": "initial_id",
   "metadata": {
    "collapsed": true
   },
   "source": [
    "import pandas as pd\n",
    "import numpy as np\n",
    "# Write a function to make this easier and help w/ data pipelines\n",
    "#read in the data, understand what is included, and find missing values if any\n",
    "\n",
    "df = pd.read_csv('marketing_data.csv', skiprows=1) #dropped first row b/c it was not the column names\n",
    "def remove_outliers(df, col_list, whisk=1.5):\n",
    "    for column in col_list:\n",
    "        q1, q3= np.percentile(df[column], [25, 75])\n",
    "        iqr = q3-q1 #sets the main interval \n",
    "        lower_limit = q1 - whisk*iqr #whisk is more flexible than 1.5, reco to use this to maintain flexibility\n",
    "        upper_limit = q3+ whisk*iqr\n",
    "        n_r_before = df.shape[0]\n",
    "        df= df[(df[column]>=lower_limit) & (df[column]<= upper_limit)] #replace original df with a new df\n",
    "        n_after = df.shape[0]\n",
    "        print(column, \"Before:\", n_r_before, \"After:\", n_after)\n",
    "        return(df)\n",
    "\n",
    "\n",
    "def clean_currency(x):\n",
    "    return(str(x).replace('$', '').replace(',', ''))\n",
    "df.columns=df.columns.str.strip()\n",
    "\n",
    "\n",
    "df.dtypes\n",
    "cols = list(df)\n",
    "cols\n",
    "df.info()\n",
    "df.describe()\n",
    "na_missing_values = df.isna().sum()\n",
    "na_missing_values\n",
    "missing_values = df.isnull().sum()\n",
    "missing_values\n",
    "cols = list(df.select_dtypes('object').columns)  #to check what else is an object - we need to code columns as a string.\n",
    "cols \n",
    "df.head()"
   ],
   "outputs": [],
   "execution_count": null
  },
  {
   "metadata": {},
   "cell_type": "code",
   "source": "df.isnull().sum() #check for missing values",
   "id": "1c2de84776feefa0",
   "outputs": [],
   "execution_count": null
  },
  {
   "metadata": {},
   "cell_type": "code",
   "source": [
    "df['Education'] = df['Education'].astype(pd.StringDtype())\n",
    "df['Marital_Status'] = df['Marital_Status'].astype(pd.StringDtype())\n",
    "df['Income'] = df['Income'].astype(pd.StringDtype()) #note that col header for \"income\" has spaces before and after the header title. This impacts analysis, so be careful!\n",
    "df['date'] = pd.to_datetime(df['Dt_Customer'], format='mixed')  #create a new variable for easier processing\n",
    "df['Country'] = df['Country'].astype(pd.StringDtype())\n",
    "df.info()  #to check if our transform works (it does!)"
   ],
   "id": "63758cd711f5eee3",
   "outputs": [],
   "execution_count": null
  },
  {
   "metadata": {},
   "cell_type": "code",
   "source": [
    "#addres missing values. We do this using the mean \n",
    "#df['Income'] = df['Income'].fillna(df['Income'].mean())\n",
    "df['Income']= df['Income'].astype(pd.StringDtype())\n",
    "df['Income'].info()"
   ],
   "id": "dd15fbd9a2bf0554",
   "outputs": [],
   "execution_count": null
  },
  {
   "metadata": {},
   "cell_type": "code",
   "source": [
    "def clean_currency(x):\n",
    "    return(str(x).replace('$', '').replace(',', ''))\n",
    "df.columns=df.columns.str.strip()\n",
    "df['Income']=df[\"Income\"].apply(clean_currency)\n",
    "df['Income'] = pd.to_numeric(df['Income'], errors='coerce')\n",
    "df['Income'] = df['Income'].fillna(df['Income'].mean())\n",
    "df['Income'].info()"
   ],
   "id": "aad2b5cb94247b19",
   "outputs": [],
   "execution_count": null
  },
  {
   "metadata": {},
   "cell_type": "markdown",
   "source": "Exploring columns and encoding variables",
   "id": "f59b31706272186c"
  },
  {
   "metadata": {},
   "cell_type": "code",
   "source": [
    "marriage_count = df['Marital_Status'].value_counts() #to understand spread of data\n",
    "marriage_count"
   ],
   "id": "3a40396310cae867",
   "outputs": [],
   "execution_count": null
  },
  {
   "metadata": {},
   "cell_type": "code",
   "source": [
    "replacements = [('Married',  '1') , ('Together', '1'),    ('Single', '0'),('Divorced', '0'),('Widow' , '0'),('Alone', '0'),('YOLO' ,'0'),('Absurd', '0')]\n",
    "for old, new in replacements: \n",
    "    df['Marital_Status'].replace(old, new, inplace=True)\n",
    "df['Married']= pd.to_numeric(df['Marital_Status'], errors='ignore') #received a note that this method is being deprecated; used an alternative for encoding education below"
   ],
   "id": "77721f49c4b2a4f7",
   "outputs": [],
   "execution_count": null
  },
  {
   "metadata": {},
   "cell_type": "code",
   "source": [
    "kid_count = df['Kidhome'].value_counts()\n",
    "kid_count\n"
   ],
   "id": "669d0168f223840f",
   "outputs": [],
   "execution_count": null
  },
  {
   "metadata": {},
   "cell_type": "code",
   "source": [
    "teen_count = df['Teenhome'].value_counts()\n",
    "teen_count"
   ],
   "id": "d7f12fdc58cbd66e",
   "outputs": [],
   "execution_count": null
  },
  {
   "metadata": {},
   "cell_type": "markdown",
   "source": [
    "Kids and teens:\n",
    "- We can do one-hot encoding for families with kids and teens but it may be more beneficial to roll kids and teens together so we know how many additional family members are in the house.\n",
    "\n",
    "**CALLOUT IN THIS APPROACH:** we are assuming that we just need to know how many others in the household aside from the purchaser, not the age."
   ],
   "id": "18a914b2f0c36ece"
  },
  {
   "metadata": {},
   "cell_type": "code",
   "source": [
    "#merge the different columns to reflect whether a house has kids or not (regardless of age) \n",
    "x= df['Kidhome']\n",
    "y=df['Teenhome']\n",
    "Total_kids = pd.concat([x,y], axis=1)\n",
    "Total_kids = x+ y\n",
    "df['children_home'] = Total_kids\n",
    "df.describe()"
   ],
   "id": "8db603ad721b4156",
   "outputs": [],
   "execution_count": null
  },
  {
   "metadata": {},
   "cell_type": "code",
   "source": [
    "education_count = df['Education'].value_counts()\n",
    "education_count"
   ],
   "id": "9d12944b7a1c9bb8",
   "outputs": [],
   "execution_count": null
  },
  {
   "metadata": {},
   "cell_type": "markdown",
   "source": [
    "*Education*\n",
    "- It would be good to encode education.\n",
    "    - We can't identify all the education statuses cleanly because of the variation in responses, but we can reliably identify higher education via PhD and Masters categories. \n",
    "    - There is an order to the level of education, so manual encoding is the best option."
   ],
   "id": "1e6c6b47d1b8679c"
  },
  {
   "metadata": {},
   "cell_type": "code",
   "source": [
    "#coded education values \n",
    "edu_map = {'Graduation': '1', 'PhD': '1', 'Master': '1', '2n Cycle': '0', 'Basic': '0'}\n",
    "x=df.assign(Higher_ed  = df['Education'].map(edu_map)) #this mapping is a little cleaner than the above approach. Will use this from now often!\n",
    "df['Higher_ed'] = x['Higher_ed']"
   ],
   "id": "3519671653300da8",
   "outputs": [],
   "execution_count": null
  },
  {
   "metadata": {},
   "cell_type": "code",
   "source": [
    "#encoded country values\n",
    "country_spread = df['Country'].value_counts()\n",
    "country_spread # we should encode these too for easier processing later on\n",
    "\n",
    "country_map = {'SP': '1', 'SA':'2', 'CA':'3', 'AUS':'4', 'IND': '5', 'GER':'6', 'US':'7', 'ME':'8'}\n",
    "y = df.assign(Country_coded = df['Country'].map(country_map))\n",
    "df['Country'] = y['Country_coded']\n",
    "df.head()"
   ],
   "id": "962f82ee614ae1be",
   "outputs": [],
   "execution_count": null
  },
  {
   "metadata": {},
   "cell_type": "markdown",
   "source": [
    "Looking at the spread across countries, we see that our data is very concentrated in Spain. This is something we should consider as we move through data processing, as this could introduce a bias in interpretation. We also needed to code the country locales so we can process the data easier later on.\n",
    "\n",
    "\n",
    "**3. Create variables (a.k.a, feature engineering)**\n",
    "\n",
    "We need to do some work to make our fields suitable for analysis. \n",
    "We've already coded marriage status, kids at home, and the country location; these are two new columns we've added to the dataset. \n",
    "\n",
    "\n",
    "Now, we must create an age field:"
   ],
   "id": "46ba210ec68429a9"
  },
  {
   "metadata": {},
   "cell_type": "code",
   "source": [
    "#create an age field calculating from year born\n",
    "import datetime\n",
    "year_born = 2024 - df['Year_Birth']\n",
    "df['Age']= year_born\n",
    "df.head()"
   ],
   "id": "e9d8efe6751abd8b",
   "outputs": [],
   "execution_count": null
  },
  {
   "metadata": {},
   "cell_type": "markdown",
   "source": "Create a variable for \"average spend per purchase\" aka avg_spend",
   "id": "b9fef9f32969f489"
  },
  {
   "metadata": {},
   "cell_type": "code",
   "source": [
    "df['Purchases'] = df['NumStorePurchases'] + df['NumDealsPurchases'] + df['NumWebPurchases'] + df['NumCatalogPurchases']\n",
    "\n",
    "df['Cost']  = (df['MntMeatProducts'] + df['MntWines'] + df['MntSweetProducts'] + df['MntFishProducts'] + df['MntFruits'] + df['MntGoldProds'])\n",
    "\n",
    "average_spend = df['Purchases']/df['Cost']\n",
    "df['average_spend'] = average_spend\n",
    "df.describe()"
   ],
   "id": "b9e1412fd36915a5",
   "outputs": [],
   "execution_count": null
  },
  {
   "metadata": {},
   "cell_type": "markdown",
   "source": [
    "We can see that on average, people made around 15 purchases over the past 2 years, spending around $600 on average per purchase.\n",
    "\n",
    "\n",
    "Now let's group some columns together to make it easier to work with!"
   ],
   "id": "36febe4d6cf3717c"
  },
  {
   "metadata": {},
   "cell_type": "code",
   "source": "people = df[['Higher_ed','Married','Income','children_home','Age','Country', 'average_spend','Cost','Purchases']]",
   "id": "cf61adf0f1e76afd",
   "outputs": [],
   "execution_count": null
  },
  {
   "metadata": {},
   "cell_type": "code",
   "source": "promotion_activity = df[['AcceptedCmp1', 'AcceptedCmp2', 'AcceptedCmp3', 'AcceptedCmp4', 'AcceptedCmp5', 'Response']]\n",
   "id": "b67fc9e4748c1b3c",
   "outputs": [],
   "execution_count": null
  },
  {
   "metadata": {},
   "cell_type": "code",
   "source": [
    "#purchases by vertical (place)\n",
    "purchases = df[['NumDealsPurchases', 'NumWebPurchases', 'NumCatalogPurchases', 'NumStorePurchases']]\n",
    "purchases.info()"
   ],
   "id": "f1243aa06426fb68",
   "outputs": [],
   "execution_count": null
  },
  {
   "metadata": {},
   "cell_type": "code",
   "source": [
    "#product revenue distribution\n",
    "product = df[['MntFishProducts', 'MntFruits', 'MntMeatProducts', 'MntWines', 'MntSweetProducts', 'MntGoldProds', 'Cost']]\n",
    "product.describe()"
   ],
   "id": "c995c84462d49784",
   "outputs": [],
   "execution_count": null
  },
  {
   "metadata": {},
   "cell_type": "markdown",
   "source": [
    "# Visualizations \n",
    "\n",
    "Boxplots and histograms to see distribution and outliers"
   ],
   "id": "54b9d0fa6f9184c6"
  },
  {
   "metadata": {},
   "cell_type": "code",
   "source": [
    "import matplotlib.pyplot as plt\n",
    "import seaborn as sns"
   ],
   "id": "1c948b00fe8e8ce2",
   "outputs": [],
   "execution_count": null
  },
  {
   "metadata": {},
   "cell_type": "code",
   "source": [
    "people_hist = people.hist(column =['Higher_ed','Income','Age','Country', 'average_spend'], bins = 30)\n",
    "plt.tight_layout()\n",
    "plt.show()\n",
    "people_box= people.boxplot(column =['Income'],vert=False, showfliers=True)  #spread of income values\n",
    "plt.show()\n",
    "people_box_age = people.boxplot(column=['Age'], vert=False, showfliers=True)\n",
    "plt.show()"
   ],
   "id": "2809184a3bd53c5e",
   "outputs": [],
   "execution_count": null
  },
  {
   "metadata": {},
   "cell_type": "markdown",
   "source": "We can see that some age values are outliers; there are 3. ",
   "id": "f4f2a3f125e392b"
  },
  {
   "metadata": {},
   "cell_type": "code",
   "source": [
    "purchases_hist = purchases.hist(column=['NumCatalogPurchases', 'NumWebPurchases', 'NumDealsPurchases','NumStorePurchases'],bins = 20)\n",
    "plt.tight_layout()\n",
    "plt.show()\n",
    "purchases_boxplot= purchases.boxplot(vert=False, showfliers=True) \n",
    "plt.show()"
   ],
   "id": "9b365d5868131da6",
   "outputs": [],
   "execution_count": null
  },
  {
   "metadata": {},
   "cell_type": "markdown",
   "source": "Purchase channels are right-skewed and there are a lot of outliers in the purchases made on deal; this could indicate that there were some attractive deals at some point, which drove more purchases.",
   "id": "2212654e28e5ca53"
  },
  {
   "metadata": {},
   "cell_type": "code",
   "source": [
    "import matplotlib.pyplot as plt\n",
    "from matplotlib import pyplot as plt, style\n",
    "import seaborn as sns"
   ],
   "id": "77d7891d0c7fe6c9",
   "outputs": [],
   "execution_count": null
  },
  {
   "metadata": {},
   "cell_type": "code",
   "source": [
    "#spread of product revenue\n",
    "product_hist = product.hist(column = ['MntFishProducts', 'MntFruits', 'MntGoldProds', 'MntSweetProducts', 'MntWines', 'MntMeatProducts'], bins=30)\n",
    "plt.tight_layout() #adjusts spacing, etc.\n",
    "plt.show() #clean up display\n",
    "\n",
    "product_box = product.boxplot(vert = False, showfliers=False) #removed outliers to get a better sense of the data spread. It looks like wine is the most purchased product, followed by meat products.\n",
    "plt.show()"
   ],
   "id": "11d3aac6b250660d",
   "outputs": [],
   "execution_count": null
  },
  {
   "metadata": {},
   "cell_type": "markdown",
   "source": "I included cost here to highlight the distribution of revenue across products compared to total expenditure.",
   "id": "a87013e2d532f405"
  },
  {
   "metadata": {},
   "cell_type": "code",
   "source": [
    "#promotion activity\n",
    "import numpy as np\n",
    "import matplotlib.pyplot as plt\n",
    "z = promotion_activity.sum()\n",
    "z\n",
    "promo_plot =z.plot(column= ['AcceptedCmp1', 'AcceptedCmp2', 'AcceptedCmp3', 'AcceptedCmp4', 'AcceptedCmp5', 'Response'], rot=45)\n",
    "plt.title('Promotion Campaign Acceptance Rates')\n",
    "plt.xlabel('Campaigns')\n",
    "plt.ylabel('Promotion Engagement')\n",
    "plt.tight_layout() #adjusts spacing, etc.\n",
    "plt.show() "
   ],
   "id": "48376eaea40e748f",
   "outputs": [],
   "execution_count": null
  },
  {
   "metadata": {},
   "cell_type": "markdown",
   "source": "Looking at this, we can see that campaign 2 is the worst-performing campaign while the latest campaign, Response, is the most successful of the efforts. Note that a box plot won't show us too much information, as we're concerned about overall campaign performance, so rendering a boxplot wouldn't make sense.",
   "id": "381a25247fbe09eb"
  },
  {
   "metadata": {},
   "cell_type": "markdown",
   "source": "# Correlation and Significance Testing",
   "id": "b833cd145810bde7"
  },
  {
   "metadata": {},
   "cell_type": "code",
   "source": [
    "import numpy as np\n",
    "import pandas as pd\n",
    "import matplotlib.pyplot as plt"
   ],
   "id": "947719a18bacb400",
   "outputs": [],
   "execution_count": null
  },
  {
   "metadata": {},
   "cell_type": "code",
   "source": [
    "#correlation between amount spent on types of products \n",
    "\n",
    "plt.figure(figsize=(10,6))\n",
    "sns.heatmap(product.corr(), annot=True, cmap='viridis')\n",
    "plt.title('Product Vertical Correlation', fontsize=16)\n",
    "plt.show()"
   ],
   "id": "44666118a14728f8",
   "outputs": [],
   "execution_count": null
  },
  {
   "metadata": {},
   "cell_type": "markdown",
   "source": "People spend the most on wine and meat products. These behave similarly in terms of money spent on a purchase (e.g., cost), as indicated by the strong, positive relationship shown in the corerlation matrix.",
   "id": "5113fbcd6640fd8"
  },
  {
   "metadata": {},
   "cell_type": "code",
   "source": [
    "import scipy.stats\n",
    "from scipy.stats import pearsonr\n",
    "age_spend_corr = pearsonr(df['Age'], df['Cost'])\n",
    "age_spend_corr "
   ],
   "id": "a7188b930d70000d",
   "outputs": [],
   "execution_count": null
  },
  {
   "metadata": {},
   "cell_type": "markdown",
   "source": "Pvalue is nearly 0, so we reject H0 that there is no relationship between age and how much is spent. As we see age increase, we should also see an increase in amount spent. ",
   "id": "1c1e0b37522cf525"
  },
  {
   "metadata": {},
   "cell_type": "markdown",
   "source": [
    "Sales channel cannibalization\n",
    "\n",
    "We can look for this to see if variables are linked; if they are, then that means we can probably remove one channel to concentrate business. We can look into this using a correlation test."
   ],
   "id": "ab39d7f89b19e6c8"
  },
  {
   "metadata": {},
   "cell_type": "code",
   "source": [
    "plt.figure(figsize=(10,6)) #to see relationships across channels\n",
    "sns.heatmap(purchases.corr(), annot=True, cmap='viridis')\n",
    "plt.title('Sales Channel Correlation', fontsize=16)\n",
    "plt.show()"
   ],
   "id": "be374888212c202e",
   "outputs": [],
   "execution_count": null
  },
  {
   "metadata": {},
   "cell_type": "code",
   "source": [
    "store_cat_correl = pearsonr(df['NumStorePurchases'], df['NumCatalogPurchases'])\n",
    "store_cat_correl #specific investigation between store and catalog purchases"
   ],
   "id": "33b10d38ddeea9a5",
   "outputs": [],
   "execution_count": null
  },
  {
   "metadata": {},
   "cell_type": "markdown",
   "source": [
    "We can see that purchases made in the catalog are positively linked to store purchases, but this is a moderately strong relationship (r=0.518). \n",
    "\n",
    "- H0 = no relationship between store purchases and catalog purchases\n",
    "- H1 = relationship between store purchases and catalog purchases \n",
    "\n",
    "Correlation of store and catalog purchases = 0.52, pvalue approx 0. This means we can confidently reject the null hypothesis and say that there is a moderate relationship between shopping in the store versus the catalog. "
   ],
   "id": "942631f020b30b68"
  },
  {
   "metadata": {},
   "cell_type": "code",
   "source": [
    "# to find out if homes with kids purchase on line more (spoiler: they don't)\n",
    "purchases_with_kids =df[['NumCatalogPurchases', 'NumWebPurchases', 'NumDealsPurchases','NumStorePurchases', 'children_home']]\n",
    "purchases_with_kids.describe()"
   ],
   "id": "f7d3e01c256f2f73",
   "outputs": [],
   "execution_count": null
  },
  {
   "metadata": {},
   "cell_type": "code",
   "source": [
    "plt.figure(figsize=(10,6))\n",
    "sns.heatmap(purchases_with_kids.corr(), annot=True, cmap='viridis')\n",
    "plt.title('Kids and purchase behaviors', fontsize=16)\n",
    "plt.show()"
   ],
   "id": "21d9bae85b44d24d",
   "outputs": [],
   "execution_count": null
  },
  {
   "metadata": {},
   "cell_type": "code",
   "source": [
    "kids_purchase_corr = pearsonr(purchases_with_kids['children_home'], purchases_with_kids['NumWebPurchases'])\n",
    "kids_purchase_corr"
   ],
   "id": "c7c8b806a157dc47",
   "outputs": [],
   "execution_count": null
  },
  {
   "metadata": {},
   "cell_type": "code",
   "source": [
    "kid_web_correl= np.corrcoef(purchases_with_kids['children_home'], purchases_with_kids['NumWebPurchases'])\n",
    "kid_web_correl #folks with children do not tend to shop more online"
   ],
   "id": "b24edc16bf59992a",
   "outputs": [],
   "execution_count": null
  },
  {
   "metadata": {},
   "cell_type": "code",
   "source": "scipy.stats.zscore(purchases_with_kids, axis = 0) #another way to confirm this",
   "id": "ecdcbb2e3d1fe113",
   "outputs": [],
   "execution_count": null
  },
  {
   "metadata": {},
   "cell_type": "code",
   "source": "product.head()",
   "id": "56ed21f518e18d39",
   "outputs": [],
   "execution_count": null
  },
  {
   "metadata": {},
   "cell_type": "code",
   "source": "product_units = pd.crosstab(index=df['Country'], columns=df['Cost'].sum())",
   "id": "3c53c4527f2af43d",
   "outputs": [],
   "execution_count": null
  },
  {
   "metadata": {},
   "cell_type": "code",
   "source": [
    "t = product_units.plot.bar()\n",
    "#country map: 'SP': '1', 'SA':'2', 'CA':'3', 'AUS':'4', 'IND': '5', 'GER':'6', 'US':'7', 'ME':'8'}\n",
    "plt.xticks((0,1, 2, 3, 4, 5, 6, 7), ('SP', 'SA', 'CA', 'AUS', 'IND', 'GER', 'US', 'ME')) #set index to 0, as this is how python operates. This plot is in line with our table value above!\n",
    "plt.title('Products purchased by Country', fontsize = 16)\n",
    "plt.show() "
   ],
   "id": "497eba5af78019a8",
   "outputs": [],
   "execution_count": null
  },
  {
   "metadata": {},
   "cell_type": "code",
   "source": [
    "#trake out cost from bar graph\n",
    "z = product.sum()\n",
    "prod_plot = z.plot.bar( rot=45)\n",
    "plt.title('Product spend by vertical', fontsize = 16)\n",
    "plt.show()"
   ],
   "id": "b9f901643d4d0cb6",
   "outputs": [],
   "execution_count": null
  },
  {
   "metadata": {},
   "cell_type": "code",
   "source": "df['Response'].sum() #check to see how many responded to most recent campaign",
   "id": "be4da8c29c858388",
   "outputs": [],
   "execution_count": null
  },
  {
   "metadata": {},
   "cell_type": "code",
   "source": "data = df[['children_home', 'Cost']]",
   "id": "2547c9ad485c8248",
   "outputs": [],
   "execution_count": null
  },
  {
   "metadata": {},
   "cell_type": "code",
   "source": [
    "x = data['children_home']\n",
    "y = data['Cost']"
   ],
   "id": "87dfbf7426a28254",
   "outputs": [],
   "execution_count": null
  },
  {
   "metadata": {},
   "cell_type": "code",
   "source": [
    "fig = plt.figure(figsize=(10,6))\n",
    "plt.bar(x,y)\n",
    "plt.xlabel('Number of children', fontweight ='bold', fontsize = 15)\n",
    "plt.ylabel('Cost', fontweight ='bold', fontsize = 15)\n",
    "plt.xticks(np.arange(min(x), max(x)+1, 1.0))\n",
    "plt.show()\n",
    "data.sort_values('children_home', ascending=True)"
   ],
   "id": "b16b36ac5183a4f",
   "outputs": [],
   "execution_count": null
  },
  {
   "metadata": {},
   "cell_type": "code",
   "source": [
    "import scipy.stats\n",
    "from scipy.stats import chi2_contingency\n",
    "data = df[['Country','Purchases']]\n",
    "data = pd.DataFrame(data)\n",
    "stat, p, dof, expected = chi2_contingency(data)\n",
    "country_vol = stat, p, dof, expected\n",
    "country_vol"
   ],
   "id": "dd89064450f4850f",
   "outputs": [],
   "execution_count": null
  },
  {
   "metadata": {},
   "cell_type": "markdown",
   "source": "There is a significant relationship between the country and how many purchases are made.",
   "id": "d8e6503606ead29a"
  },
  {
   "metadata": {},
   "cell_type": "code",
   "source": [
    "df['Country'] = df['Country'].astype(int)\n",
    "country_purchase_corr = np.corrcoef(df['Country'], df['Purchases'])\n",
    "country_purchase_corr"
   ],
   "id": "c43b3a0badf3c614",
   "outputs": [],
   "execution_count": null
  },
  {
   "metadata": {},
   "cell_type": "code",
   "source": [
    "import scipy.stats\n",
    "from scipy.stats import chi2_contingency\n",
    "data = df[['Country', 'Purchases']]\n",
    "data = pd.DataFrame(data)\n",
    "stat, p, dof, expected = chi2_contingency(data)\n",
    "country_vol = stat, p, dof, expected\n",
    "country_vol"
   ],
   "id": "e0b614a05c7cbf7d",
   "outputs": [],
   "execution_count": null
  },
  {
   "metadata": {},
   "cell_type": "code",
   "source": [
    "from scipy.stats import ttest_ind\n",
    "stats.ttest_ind(data['Country'], data['Purchases'], equal_var=False)"
   ],
   "id": "98e6fa15f0e570e",
   "outputs": [],
   "execution_count": null
  },
  {
   "metadata": {},
   "cell_type": "code",
   "source": [
    "correlation_coefficient, p_value = scipy.stats.pearsonr(df['Country'], df['Purchases'])\n",
    "# Interpretation of the correlation\n",
    "if p_value < 0.05:\n",
    "    print(\"The correlation is statistically significant.\")\n",
    "else:\n",
    "    print(\"The correlation is not statistically significant.\")\n",
    "    \n",
    "if correlation_coefficient > 0:\n",
    "    print(\"There is a positive correlation between Country and purchases.\")\n",
    "elif correlation_coefficient < 0:\n",
    "    print(\"There is a negative correlation between Country and purchases.\")\n",
    "else:\n",
    "    print(\"There is no linear correlation between Country and purchases.\")"
   ],
   "id": "50273024053c8896",
   "outputs": [],
   "execution_count": null
  },
  {
   "metadata": {},
   "cell_type": "code",
   "source": [
    "import numpy as np\n",
    "sample_coprrel = np.corrcoef(df['Age'], df['Response'])"
   ],
   "id": "4f77762245c1d437",
   "outputs": [],
   "execution_count": null
  },
  {
   "metadata": {},
   "cell_type": "code",
   "source": [
    "#Calculate Pearson correlation coefficient and p-value\n",
    "correlation_coefficient, p_value = scipy.stats.pearsonr(df['Age'], df['Response'])\n",
    "# Interpretation of the correlation\n",
    "if p_value < 0.05:\n",
    "    print(\"The correlation is statistically significant.\")\n",
    "else:\n",
    "    print(\"The correlation is not statistically significant.\")\n",
    "    \n",
    "if correlation_coefficient > 0:\n",
    "    print(\"There is a positive correlation between Age and most recent campaign acceptance.\")\n",
    "elif correlation_coefficient < 0:\n",
    "    print(\"There is a negative correlation between Age and most recent campaign acceptance.\")\n",
    "else:\n",
    "    print(\"There is no linear correlation between Age and most recent campaign acceptance.\")"
   ],
   "id": "b8c7d77eee201531",
   "outputs": [],
   "execution_count": null
  }
 ],
 "metadata": {
  "kernelspec": {
   "display_name": "Python 3",
   "language": "python",
   "name": "python3"
  },
  "language_info": {
   "codemirror_mode": {
    "name": "ipython",
    "version": 2
   },
   "file_extension": ".py",
   "mimetype": "text/x-python",
   "name": "python",
   "nbconvert_exporter": "python",
   "pygments_lexer": "ipython2",
   "version": "2.7.6"
  }
 },
 "nbformat": 4,
 "nbformat_minor": 5
}
